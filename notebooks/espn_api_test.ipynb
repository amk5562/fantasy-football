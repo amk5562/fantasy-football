{
 "cells": [
  {
   "cell_type": "code",
   "execution_count": 1,
   "id": "4b3cad0b",
   "metadata": {},
   "outputs": [
    {
     "ename": "ModuleNotFoundError",
     "evalue": "No module named 'espnfantasyfootball'",
     "output_type": "error",
     "traceback": [
      "\u001b[0;31m---------------------------------------------------------------------------\u001b[0m",
      "\u001b[0;31mModuleNotFoundError\u001b[0m                       Traceback (most recent call last)",
      "Cell \u001b[0;32mIn[1], line 2\u001b[0m\n\u001b[1;32m      1\u001b[0m \u001b[38;5;28;01mimport\u001b[39;00m\u001b[38;5;250m \u001b[39m\u001b[38;5;21;01mpandas\u001b[39;00m\u001b[38;5;250m \u001b[39m\u001b[38;5;28;01mas\u001b[39;00m\u001b[38;5;250m \u001b[39m\u001b[38;5;21;01mpd\u001b[39;00m\n\u001b[0;32m----> 2\u001b[0m \u001b[38;5;28;01mimport\u001b[39;00m\u001b[38;5;250m \u001b[39m\u001b[38;5;21;01mespnfantasyfootball\u001b[39;00m\u001b[38;5;250m \u001b[39m\u001b[38;5;28;01mas\u001b[39;00m\u001b[38;5;250m \u001b[39m\u001b[38;5;21;01mespn\u001b[39;00m\n\u001b[1;32m      3\u001b[0m \u001b[38;5;28;01mimport\u001b[39;00m\u001b[38;5;250m \u001b[39m\u001b[38;5;21;01mespnsecrets\u001b[39;00m\n",
      "\u001b[0;31mModuleNotFoundError\u001b[0m: No module named 'espnfantasyfootball'"
     ]
    }
   ],
   "source": [
    "import pandas as pd\n",
    "import espnfantasyfootball as espn\n",
    "import espnsecrets"
   ]
  },
  {
   "cell_type": "code",
   "execution_count": null,
   "id": "d76252a2",
   "metadata": {},
   "outputs": [],
   "source": [
    "league = espn.FantasyLeague(league_id=12345, year = 2020,\n",
    "                            swid=espnsecrets.swid,\n",
    "                            espn_s2=espnsecrets.espn_2s)"
   ]
  },
  {
   "cell_type": "code",
   "execution_count": null,
   "id": "31ffd7d4",
   "metadata": {},
   "outputs": [],
   "source": [
    "data = league.get_league_data()"
   ]
  },
  {
   "cell_type": "code",
   "execution_count": null,
   "id": "7ec7a3ff",
   "metadata": {},
   "outputs": [],
   "source": [
    "data[1:4]"
   ]
  },
  {
   "cell_type": "code",
   "execution_count": 2,
   "id": "2f275931",
   "metadata": {},
   "outputs": [
    {
     "name": "stderr",
     "output_type": "stream",
     "text": [
      "/Users/arankirwan/Library/Python/3.9/lib/python/site-packages/urllib3/__init__.py:35: NotOpenSSLWarning: urllib3 v2 only supports OpenSSL 1.1.1+, currently the 'ssl' module is compiled with 'LibreSSL 2.8.3'. See: https://github.com/urllib3/urllib3/issues/3020\n",
      "  warnings.warn(\n"
     ]
    },
    {
     "ename": "ModuleNotFoundError",
     "evalue": "No module named 'espnsecrets'",
     "output_type": "error",
     "traceback": [
      "\u001b[0;31m---------------------------------------------------------------------------\u001b[0m",
      "\u001b[0;31mModuleNotFoundError\u001b[0m                       Traceback (most recent call last)",
      "Cell \u001b[0;32mIn[2], line 3\u001b[0m\n\u001b[1;32m      1\u001b[0m \u001b[38;5;28;01mimport\u001b[39;00m\u001b[38;5;250m \u001b[39m\u001b[38;5;21;01mpandas\u001b[39;00m\u001b[38;5;250m \u001b[39m\u001b[38;5;28;01mas\u001b[39;00m\u001b[38;5;250m \u001b[39m\u001b[38;5;21;01mpd\u001b[39;00m\n\u001b[1;32m      2\u001b[0m \u001b[38;5;28;01mfrom\u001b[39;00m\u001b[38;5;250m \u001b[39m\u001b[38;5;21;01mespn_api\u001b[39;00m\u001b[38;5;21;01m.\u001b[39;00m\u001b[38;5;21;01mfootball\u001b[39;00m\u001b[38;5;250m \u001b[39m\u001b[38;5;28;01mimport\u001b[39;00m League\n\u001b[0;32m----> 3\u001b[0m \u001b[38;5;28;01mimport\u001b[39;00m\u001b[38;5;250m \u001b[39m\u001b[38;5;21;01mespnsecrets\u001b[39;00m\n\u001b[1;32m      5\u001b[0m league \u001b[38;5;241m=\u001b[39m League(\n\u001b[1;32m      6\u001b[0m     league_id\u001b[38;5;241m=\u001b[39m\u001b[38;5;241m1206951\u001b[39m,\n\u001b[1;32m      7\u001b[0m     year\u001b[38;5;241m=\u001b[39m\u001b[38;5;241m2020\u001b[39m,\n\u001b[1;32m      8\u001b[0m     swid\u001b[38;5;241m=\u001b[39mespnsecrets\u001b[38;5;241m.\u001b[39mswid,\n\u001b[1;32m      9\u001b[0m     espn_s2\u001b[38;5;241m=\u001b[39mespnsecrets\u001b[38;5;241m.\u001b[39mespn_s2\n\u001b[1;32m     10\u001b[0m )\n\u001b[1;32m     12\u001b[0m data \u001b[38;5;241m=\u001b[39m league\u001b[38;5;241m.\u001b[39mget_league_data()\n",
      "\u001b[0;31mModuleNotFoundError\u001b[0m: No module named 'espnsecrets'"
     ]
    }
   ],
   "source": [
    "import pandas as pd\n",
    "from espn_api.football import League\n",
    "import espnsecrets\n",
    "\n",
    "league = League(\n",
    "    league_id=1206951,\n",
    "    year=2020,\n",
    "    swid=espnsecrets.swid,\n",
    "    espn_s2=espnsecrets.espn_s2\n",
    ")\n",
    "\n",
    "data = league.get_league_data()\n",
    "data[1:4]"
   ]
  }
 ],
 "metadata": {
  "kernelspec": {
   "display_name": "Python 3",
   "language": "python",
   "name": "python3"
  },
  "language_info": {
   "codemirror_mode": {
    "name": "ipython",
    "version": 3
   },
   "file_extension": ".py",
   "mimetype": "text/x-python",
   "name": "python",
   "nbconvert_exporter": "python",
   "pygments_lexer": "ipython3",
   "version": "3.9.6"
  }
 },
 "nbformat": 4,
 "nbformat_minor": 5
}
